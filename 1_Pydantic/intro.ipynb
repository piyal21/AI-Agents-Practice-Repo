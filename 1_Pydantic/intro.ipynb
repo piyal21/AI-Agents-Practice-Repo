{
 "cells": [
  {
   "cell_type": "code",
   "execution_count": 2,
   "id": "e74d0864",
   "metadata": {},
   "outputs": [],
   "source": [
    "from pydantic import BaseModel\n"
   ]
  },
  {
   "cell_type": "code",
   "execution_count": 3,
   "id": "a27b3fe6",
   "metadata": {},
   "outputs": [
    {
     "name": "stdout",
     "output_type": "stream",
     "text": [
      "name='Alice' age=30 city='New York'\n"
     ]
    }
   ],
   "source": [
    "class Person(BaseModel):\n",
    "    name: str\n",
    "    age: int\n",
    "    city:str\n",
    "    \n",
    "    \n",
    "person = Person(name=\"Alice\", age=30, city=\"New York\")\n",
    "print(person)"
   ]
  },
  {
   "cell_type": "markdown",
   "id": "300b563d",
   "metadata": {},
   "source": [
    "* optional [ data type ]"
   ]
  },
  {
   "cell_type": "code",
   "execution_count": 16,
   "id": "3bcc8fe7",
   "metadata": {},
   "outputs": [
    {
     "name": "stdout",
     "output_type": "stream",
     "text": [
      "name='Bob' age=25 city=None salary=None active=True\n"
     ]
    }
   ],
   "source": [
    "from typing import Optional\n",
    "\n",
    "class Employee(BaseModel):\n",
    "    name: str\n",
    "    age: int\n",
    "    city: Optional[str] = None  \n",
    "    salary: Optional[float] = None # default value is None\n",
    "    active : Optional[bool] = True \n",
    "\n",
    "emp1 = Employee(name=\"Bob\", age=25)\n",
    "emp2 = Employee(name=\"Charlie\", age=28, city=\"Los Angeles\", salary=75000.0)\n",
    "\n",
    "print(emp1)\n"
   ]
  },
  {
   "cell_type": "code",
   "execution_count": 17,
   "id": "5643c7ad",
   "metadata": {},
   "outputs": [
    {
     "name": "stdout",
     "output_type": "stream",
     "text": [
      "name='Charlie' age=28 city='Los Angeles' salary=75000.0 active=True\n"
     ]
    }
   ],
   "source": [
    "print(emp2)"
   ]
  },
  {
   "cell_type": "markdown",
   "id": "92012004",
   "metadata": {},
   "source": [
    "* List of String [ LIST ]"
   ]
  },
  {
   "cell_type": "code",
   "execution_count": 18,
   "id": "8fb69212",
   "metadata": {},
   "outputs": [],
   "source": [
    "from typing import List"
   ]
  },
  {
   "cell_type": "code",
   "execution_count": 20,
   "id": "a7feaa36",
   "metadata": {},
   "outputs": [
    {
     "name": "stdout",
     "output_type": "stream",
     "text": [
      "username='Shakir Ahmed' mail='genjamgalaxy@gmail.com' active=True skills=['python', 'Machine Learning']\n"
     ]
    }
   ],
   "source": [
    "class User(BaseModel):\n",
    "    username:str\n",
    "    mail:str\n",
    "    active : Optional[bool]=True\n",
    "    skills: List[str]\n",
    "    \n",
    "user1 = User(\n",
    "    username= 'Shakir Ahmed',\n",
    "    mail='genjamgalaxy@gmail.com',\n",
    "    skills=['python','Machine Learning']\n",
    ")\n",
    "\n",
    "print(user1)\n",
    "    "
   ]
  },
  {
   "cell_type": "code",
   "execution_count": null,
   "id": "ea59a7a9",
   "metadata": {},
   "outputs": [],
   "source": []
  }
 ],
 "metadata": {
  "kernelspec": {
   "display_name": "Course",
   "language": "python",
   "name": "python3"
  },
  "language_info": {
   "codemirror_mode": {
    "name": "ipython",
    "version": 3
   },
   "file_extension": ".py",
   "mimetype": "text/x-python",
   "name": "python",
   "nbconvert_exporter": "python",
   "pygments_lexer": "ipython3",
   "version": "3.12.10"
  }
 },
 "nbformat": 4,
 "nbformat_minor": 5
}
